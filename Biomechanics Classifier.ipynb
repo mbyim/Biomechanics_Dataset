{
 "cells": [
  {
   "cell_type": "code",
   "execution_count": 1,
   "metadata": {
    "collapsed": false
   },
   "outputs": [],
   "source": [
    "import matplotlib\n",
    "import numpy as np\n",
    "import pandas as pd\n",
    "from sklearn.model_selection import train_test_split\n",
    "from sklearn.utils import shuffle\n",
    "import csv\n",
    "import random\n",
    "import math\n",
    "import tensorflow as tf\n",
    "%matplotlib inline  "
   ]
  },
  {
   "cell_type": "code",
   "execution_count": 2,
   "metadata": {
    "collapsed": false
   },
   "outputs": [
    {
     "data": {
      "text/html": [
       "<div>\n",
       "<table border=\"1\" class=\"dataframe\">\n",
       "  <thead>\n",
       "    <tr style=\"text-align: right;\">\n",
       "      <th></th>\n",
       "      <th>pelvic_incidence</th>\n",
       "      <th>pelvic_tilt</th>\n",
       "      <th>lumbar_lordosis_angle</th>\n",
       "      <th>sacral_slope</th>\n",
       "      <th>pelvic_radius</th>\n",
       "      <th>degree_spondylolisthesis</th>\n",
       "    </tr>\n",
       "  </thead>\n",
       "  <tbody>\n",
       "    <tr>\n",
       "      <th>pelvic_incidence</th>\n",
       "      <td>1.000000</td>\n",
       "      <td>0.629199</td>\n",
       "      <td>0.717282</td>\n",
       "      <td>0.814960</td>\n",
       "      <td>-0.247467</td>\n",
       "      <td>0.638743</td>\n",
       "    </tr>\n",
       "    <tr>\n",
       "      <th>pelvic_tilt</th>\n",
       "      <td>0.629199</td>\n",
       "      <td>1.000000</td>\n",
       "      <td>0.432764</td>\n",
       "      <td>0.062345</td>\n",
       "      <td>0.032668</td>\n",
       "      <td>0.397862</td>\n",
       "    </tr>\n",
       "    <tr>\n",
       "      <th>lumbar_lordosis_angle</th>\n",
       "      <td>0.717282</td>\n",
       "      <td>0.432764</td>\n",
       "      <td>1.000000</td>\n",
       "      <td>0.598387</td>\n",
       "      <td>-0.080344</td>\n",
       "      <td>0.533667</td>\n",
       "    </tr>\n",
       "    <tr>\n",
       "      <th>sacral_slope</th>\n",
       "      <td>0.814960</td>\n",
       "      <td>0.062345</td>\n",
       "      <td>0.598387</td>\n",
       "      <td>1.000000</td>\n",
       "      <td>-0.342128</td>\n",
       "      <td>0.523557</td>\n",
       "    </tr>\n",
       "    <tr>\n",
       "      <th>pelvic_radius</th>\n",
       "      <td>-0.247467</td>\n",
       "      <td>0.032668</td>\n",
       "      <td>-0.080344</td>\n",
       "      <td>-0.342128</td>\n",
       "      <td>1.000000</td>\n",
       "      <td>-0.026065</td>\n",
       "    </tr>\n",
       "    <tr>\n",
       "      <th>degree_spondylolisthesis</th>\n",
       "      <td>0.638743</td>\n",
       "      <td>0.397862</td>\n",
       "      <td>0.533667</td>\n",
       "      <td>0.523557</td>\n",
       "      <td>-0.026065</td>\n",
       "      <td>1.000000</td>\n",
       "    </tr>\n",
       "  </tbody>\n",
       "</table>\n",
       "</div>"
      ],
      "text/plain": [
       "                          pelvic_incidence  pelvic_tilt  \\\n",
       "pelvic_incidence                  1.000000     0.629199   \n",
       "pelvic_tilt                       0.629199     1.000000   \n",
       "lumbar_lordosis_angle             0.717282     0.432764   \n",
       "sacral_slope                      0.814960     0.062345   \n",
       "pelvic_radius                    -0.247467     0.032668   \n",
       "degree_spondylolisthesis          0.638743     0.397862   \n",
       "\n",
       "                          lumbar_lordosis_angle  sacral_slope  pelvic_radius  \\\n",
       "pelvic_incidence                       0.717282      0.814960      -0.247467   \n",
       "pelvic_tilt                            0.432764      0.062345       0.032668   \n",
       "lumbar_lordosis_angle                  1.000000      0.598387      -0.080344   \n",
       "sacral_slope                           0.598387      1.000000      -0.342128   \n",
       "pelvic_radius                         -0.080344     -0.342128       1.000000   \n",
       "degree_spondylolisthesis               0.533667      0.523557      -0.026065   \n",
       "\n",
       "                          degree_spondylolisthesis  \n",
       "pelvic_incidence                          0.638743  \n",
       "pelvic_tilt                               0.397862  \n",
       "lumbar_lordosis_angle                     0.533667  \n",
       "sacral_slope                              0.523557  \n",
       "pelvic_radius                            -0.026065  \n",
       "degree_spondylolisthesis                  1.000000  "
      ]
     },
     "execution_count": 2,
     "metadata": {},
     "output_type": "execute_result"
    },
    {
     "data": {
      "image/png": "[encoded data removed]",
      "text/plain": [
       "<matplotlib.figure.Figure at 0x11e97bcc0>"
      ]
     },
     "metadata": {},
     "output_type": "display_data"
    }
   ],
   "source": [
    "#Explore Features\n",
    "df = pd.read_csv('column_3C_weka.csv')\n",
    "df.hist(layout = (2, 3))\n",
    "df.corr()"
   ]
  },
  {
   "cell_type": "code",
   "execution_count": 3,
   "metadata": {
    "collapsed": false
   },
   "outputs": [],
   "source": [
    "#FUNCTIONS\n",
    "\n",
    "#preprocess/split data\n",
    "def split_data_pandas(file_name, dev_train_sz = 0.2):\n",
    "    data = pd.read_csv(file_name)\n",
    "    data = shuffle(data)\n",
    "    #print(data.shape)\n",
    "    Y = data['class'].replace('Normal', 0).replace('Spondylolisthesis', 1).replace('Hernia', 2)\n",
    "    X = data.drop('class', axis = 1)\n",
    "    X_train, X_test, Y_train, Y_test = train_test_split(X, Y, test_size = dev_train_sz)\n",
    "    X_test, X_dev, Y_test, Y_dev = train_test_split(X_test, Y_test, test_size = .5)\n",
    "    \n",
    "    \n",
    "    #print(\"train size is :\" + str(X_train.shape) + str(Y_train.shape) )\n",
    "    #print(\"test size is :\" + str(X_test.shape) + str(Y_test.shape) )\n",
    "    #print(\"dev size is :\" + str(X_dev.shape) + str(Y_dev.shape) )\n",
    "    #print(217+46+47)\n",
    "    \n",
    "    \n",
    "    \n",
    "    return X_train, X_dev, X_test, Y_train, Y_dev, Y_test\n",
    "\n",
    "\n",
    "#load dfs -> numpy arrays  \n",
    "load_data = lambda x: np.array(x)\n",
    "\n",
    "\n",
    "#one-hot encode the Y numpy arrays\n",
    "def one_hot(num_classes, y_data):\n",
    "    num_classes = tf.constant(num_classes)\n",
    "    hot_matrix = tf.one_hot(y_data, num_classes, axis = 1)\n",
    "    session = tf.Session()\n",
    "    hot = session.run(hot_matrix)\n",
    "    session.close()\n",
    "    return hot\n",
    "\n"
   ]
  },
  {
   "cell_type": "code",
   "execution_count": 4,
   "metadata": {
    "collapsed": false
   },
   "outputs": [
    {
     "name": "stdout",
     "output_type": "stream",
     "text": [
      "(248, 6)\n",
      "(248, 3)\n",
      "(31, 6)\n",
      "(31, 3)\n",
      "Tensor(\"transpose:0\", shape=(3, 3, 248), dtype=float32)\n",
      "Tensor(\"transpose_1:0\", shape=(3, 3, 31), dtype=float32)\n"
     ]
    }
   ],
   "source": [
    "#Generate df's with data (WRAP ALL THIS INTO A FUNCTION?)\n",
    "X_train, X_dev, X_test, Y_train, Y_dev, Y_test = split_data_pandas('column_3C_weka.csv')\n",
    "\n",
    "#load data into numpy arrays\n",
    "X_data = load_data(X_train)\n",
    "y_data = load_data(Y_train)\n",
    "X_data = X_data\n",
    "y_data = y_data.T\n",
    "\n",
    "y_data = np.eye(3)[y_data]\n",
    "\n",
    "X_dev_array = load_data(X_dev)\n",
    "y_dev_array = load_data(Y_dev)\n",
    "X_dev_array = X_dev_array\n",
    "y_dev_array = y_dev_array.T\n",
    "\n",
    "y_dev_array = np.eye(3)[y_dev_array]\n",
    "\n",
    "\n",
    "print(X_data.shape)\n",
    "print(y_data.shape)\n",
    "print(X_dev_array.shape)\n",
    "print(y_dev_array.shape)\n",
    "\n",
    "\n",
    "\n",
    "\n",
    "print(tf.transpose(one_hot(3, y_data)))\n",
    "print(tf.transpose(one_hot(3, y_dev_array)))"
   ]
  },
  {
   "cell_type": "code",
   "execution_count": 5,
   "metadata": {
    "collapsed": false
   },
   "outputs": [
    {
     "name": "stdout",
     "output_type": "stream",
     "text": [
      "DONE\n"
     ]
    }
   ],
   "source": [
    "#Initialize Placeholders and Parameters\n",
    "def init_ph(num_features, num_classes):\n",
    "    '''\n",
    "    Creates the X and Y training data placeholders\n",
    "    '''\n",
    "\n",
    "    X = tf.placeholder(tf.float32, shape = (num_features, None),name = 'X')\n",
    "    Y = tf.placeholder(tf.float32, shape = (num_classes, None),name = 'Y')\n",
    "\n",
    "    return X, Y\n",
    "\n",
    "def init_param(num_hidden_layers, X_data, nodes = 30):\n",
    "    '''\n",
    "    Creates & initializes Weights and Biases parameters for layers\n",
    "    '''\n",
    "    \n",
    "    #create appropriate variables\n",
    "    Weights = {}\n",
    "    Biases = {}\n",
    "    \n",
    "    for i in range(num_hidden_layers):\n",
    "        if i == 0:\n",
    "            num_ex = int(X_data.shape[1])\n",
    "            wname = 'W_' + str(i)\n",
    "            bname = 'B_' + str(i)\n",
    "            Weights['W' + str(i)] = tf.get_variable(wname, shape = [nodes, num_ex], initializer = tf.contrib.layers.xavier_initializer())\n",
    "            Biases['B' + str(i)] = tf.get_variable(bname, shape = [nodes, 1], initializer = tf.zeros_initializer())\n",
    "        elif (i > 0) and (i < (num_hidden_layers)-1):\n",
    "            wname = 'W_' + str(i)\n",
    "            bname = 'B_' + str(i)\n",
    "            Weights['W' + str(i)] = tf.get_variable(wname, shape = [nodes, nodes], initializer = tf.contrib.layers.xavier_initializer())\n",
    "            Biases['B' + str(i)] = tf.get_variable(bname, shape = [nodes, 1], initializer = tf.zeros_initializer())\n",
    "        else:\n",
    "            wname = 'W_' + str(i)\n",
    "            bname = 'B_' + str(i)\n",
    "            Weights['W' + str(i)] = tf.get_variable(wname, shape = [3, nodes], initializer = tf.contrib.layers.xavier_initializer())\n",
    "            Biases['B' + str(i)] = tf.get_variable(bname, shape = [3, 1], initializer = tf.zeros_initializer())\n",
    "        \n",
    "            \n",
    "        \n",
    "        \n",
    "        \n",
    "    return Weights, Biases\n",
    "    \n",
    "#X, Y = init_ph(X_data, y_data)\n",
    "#W, B = init_param(3, X_data)\n",
    "print(\"DONE\")"
   ]
  },
  {
   "cell_type": "code",
   "execution_count": 6,
   "metadata": {
    "collapsed": false
   },
   "outputs": [],
   "source": [
    "#Computational Graph\n",
    "\n",
    "\n",
    "#MAKE num_hidden_layers a global variable so its passed to both forward_prop and the init_param fucnctions\n",
    "def forward_prop(X, Weights, Biases, num_hidden_layers):\n",
    "    \n",
    "    #store stuff for the loop\n",
    "    Zs = {}\n",
    "    As = {}\n",
    "    last_layer = None\n",
    "    \n",
    "    for i in range(num_hidden_layers):\n",
    "        #print(range(num_hidden_layers))\n",
    "        zname = \"Z_\" + str(i)\n",
    "        aname = \"A_\" + str(i)\n",
    "        \n",
    "        if i == 0:\n",
    "            zname = tf.add(tf.matmul(Weights[\"W\" + str(i)], X), Biases[\"B\" + str(i)])\n",
    "            Zs[\"Z\" + str(i)] = zname\n",
    "            aname = tf.nn.relu(Zs[\"Z\" + str(i)])\n",
    "            As[\"A\" + str(i)] = aname\n",
    "            \n",
    "        elif (i > 0) and (i < (num_hidden_layers)-1):\n",
    "            zname = tf.add(tf.matmul(Weights[\"W\" + str(i)], As[\"A\" + str(i-1)]), Biases[\"B\" + str(i)])\n",
    "            Zs[\"Z\" + str(i)] = zname\n",
    "            aname = tf.nn.relu(Zs[\"Z\" + str(i)])\n",
    "            As[\"A\" + str(i)] = aname\n",
    "        else:\n",
    "            #print(\"output layer\")\n",
    "            last_layer = tf.add(tf.matmul(Weights[\"W\" + str(i)], As[\"A\" + str(i-1)]), Biases[\"B\" + str(i)])\n",
    "            \n",
    "    \n",
    "    return last_layer\n",
    "\n",
    "#last_z = forward_prop(X, W, B, 3)\n",
    "#print(last_z)\n",
    "    \n",
    "    \n",
    "    \n",
    "def cost_compute(last_z, Y):\n",
    "    '''\n",
    "    Calculate cost\n",
    "    '''\n",
    "    \n",
    "    logits = tf.transpose(last_z)\n",
    "    labels = tf.transpose(Y)\n",
    "    \n",
    "    cost = tf.reduce_mean(tf.nn.softmax_cross_entropy_with_logits(logits = logits, labels = labels))\n",
    "    \n",
    "    return cost\n",
    "    \n",
    "    \n",
    "    \n",
    "#cost = cost_compute(last_z, Y)\n",
    "#print(cost)\n",
    "\n"
   ]
  },
  {
   "cell_type": "code",
   "execution_count": 7,
   "metadata": {
    "collapsed": true
   },
   "outputs": [],
   "source": [
    "#Wrapping around the relevant functions and data\n",
    "def model(num_hidden_layers, X_data, y_data, x_dev_array, y_dev_array, nodes, learning_rate = 0.0001):\n",
    "    \n",
    "    #Initialize Placeholders\n",
    "    X, Y = init_ph(X_data.shape[1], y_data.shape[1])\n",
    "    \n",
    "    #Initialize Weights/Biases\n",
    "    W, B = init_param(num_hidden_layers, X_data, nodes)\n",
    "    \n",
    "    #Forward Propagation\n",
    "    last_z = forward_prop(X, W, B, num_hidden_layers)\n",
    "    print(last_z)\n",
    "    \n",
    "    #Compute Cost\n",
    "    cost = cost_compute(last_z, Y)\n",
    "    \n",
    "    #Backprop\n",
    "    optimizer = tf.train.GradientDescentOptimizer(learning_rate = learning_rate).minimize(cost)\n",
    "    \n",
    "    \n",
    "    with tf.Session() as sess:\n",
    "        \n",
    "        #Initialize variables\n",
    "        sess.run(tf.global_variables_initializer())\n",
    "        \n",
    "        sess.run([optimizer, cost], feed_dict={X: X_data.T , Y: y_data.T})\n",
    "        \n",
    "        #Save parameters\n",
    "        Weights = sess.run(W)\n",
    "        Biases = sess.run(B)\n",
    "\n",
    "        #Calculate correct predictions\n",
    "        corrects = tf.equal(tf.argmax(last_z), tf.argmax(Y))\n",
    "        \n",
    "        # Calculate accuracy on the test set\n",
    "        accuracy = tf.reduce_mean(tf.cast(corrects, \"float\"))\n",
    "\n",
    "        print (\"Train Accuracy:\", accuracy.eval({X: X_data.T, Y: y_data.T}))\n",
    "        print (\"Test Accuracy:\", accuracy.eval({X: X_dev_array.T, Y: y_dev_array.T}))\n",
    "        \n",
    "        return W, B\n",
    "        "
   ]
  },
  {
   "cell_type": "code",
   "execution_count": 8,
   "metadata": {
    "collapsed": false
   },
   "outputs": [
    {
     "name": "stdout",
     "output_type": "stream",
     "text": [
      "Tensor(\"Add_199:0\", shape=(3, ?), dtype=float32)\n",
      "Train Accuracy: 0.512097\n",
      "Test Accuracy: 0.387097\n"
     ]
    }
   ],
   "source": [
    "#Run session/model\n",
    "W, B = model(200, X_data, y_data, X_dev_array, y_dev_array, 9)"
   ]
  },
  {
   "cell_type": "code",
   "execution_count": null,
   "metadata": {
    "collapsed": false
   },
   "outputs": [],
   "source": []
  }
 ],
 "metadata": {
  "anaconda-cloud": {},
  "kernelspec": {
   "display_name": "Python [conda root]",
   "language": "python",
   "name": "conda-root-py"
  },
  "language_info": {
   "codemirror_mode": {
    "name": "ipython",
    "version": 3
   },
   "file_extension": ".py",
   "mimetype": "text/x-python",
   "name": "python",
   "nbconvert_exporter": "python",
   "pygments_lexer": "ipython3",
   "version": "3.5.4"
  }
 },
 "nbformat": 4,
 "nbformat_minor": 1
}
